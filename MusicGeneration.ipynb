{
  "cells": [
    {
      "cell_type": "markdown",
      "metadata": {
        "id": "lYLQD4kdkG-B"
      },
      "source": [
        "# Importing Libraries\n"
      ]
    },
    {
      "cell_type": "code",
      "execution_count": 3,
      "metadata": {
        "colab": {
          "base_uri": "https://localhost:8080/"
        },
        "id": "BBLemLM7s9Em",
        "outputId": "c94500d2-f051-45b7-be98-3c91596c295b"
      },
      "outputs": [
        {
          "name": "stdout",
          "output_type": "stream",
          "text": [
            "Requirement already satisfied: music21 in /usr/local/lib/python3.7/dist-packages (5.5.0)\n",
            "Reading package lists... Done\n",
            "Building dependency tree       \n",
            "Reading state information... Done\n",
            "The following additional packages will be installed:\n",
            "  fonts-droid-fallback fonts-lmodern fonts-noto-mono ghostscript gsfonts\n",
            "  libauthen-sasl-perl libcupsfilters1 libcupsimage2 libdata-dump-perl\n",
            "  libencode-locale-perl libfile-listing-perl libfont-afm-perl libgs9\n",
            "  libgs9-common libhtml-form-perl libhtml-format-perl libhtml-parser-perl\n",
            "  libhtml-tagset-perl libhtml-tree-perl libhttp-cookies-perl\n",
            "  libhttp-daemon-perl libhttp-date-perl libhttp-message-perl\n",
            "  libhttp-negotiate-perl libijs-0.35 libio-html-perl libio-socket-ssl-perl\n",
            "  libjbig2dec0 libkpathsea6 liblwp-mediatypes-perl liblwp-protocol-https-perl\n",
            "  libmailtools-perl libnet-http-perl libnet-smtp-ssl-perl libnet-ssleay-perl\n",
            "  libpotrace0 libptexenc1 libsynctex1 libtexlua52 libtexluajit2\n",
            "  libtext-unidecode-perl libtimedate-perl libtry-tiny-perl liburi-perl\n",
            "  libwww-perl libwww-robotrules-perl libxml-libxml-perl\n",
            "  libxml-namespacesupport-perl libxml-parser-perl libxml-sax-base-perl\n",
            "  libxml-sax-expat-perl libxml-sax-perl libzzip-0-13 lilypond-data lmodern\n",
            "  netbase perl-openssl-defaults poppler-data t1utils tex-common texinfo\n",
            "  texlive-base texlive-binaries texlive-latex-base\n",
            "Suggested packages:\n",
            "  fonts-noto ghostscript-x libdigest-hmac-perl libgssapi-perl\n",
            "  libcrypt-ssleay-perl libauthen-ntlm-perl lilypond-doc poppler-utils\n",
            "  fonts-japanese-mincho | fonts-ipafont-mincho fonts-japanese-gothic\n",
            "  | fonts-ipafont-gothic fonts-arphic-ukai fonts-arphic-uming fonts-nanum\n",
            "  debhelper texlive-generic-recommended texinfo-doc-nonfree\n",
            "  texlive-fonts-recommended perl-tk xpdf-reader | pdf-viewer\n",
            "  texlive-latex-base-doc\n",
            "The following NEW packages will be installed:\n",
            "  fonts-droid-fallback fonts-lmodern fonts-noto-mono ghostscript gsfonts\n",
            "  libauthen-sasl-perl libcupsfilters1 libcupsimage2 libdata-dump-perl\n",
            "  libencode-locale-perl libfile-listing-perl libfont-afm-perl libgs9\n",
            "  libgs9-common libhtml-form-perl libhtml-format-perl libhtml-parser-perl\n",
            "  libhtml-tagset-perl libhtml-tree-perl libhttp-cookies-perl\n",
            "  libhttp-daemon-perl libhttp-date-perl libhttp-message-perl\n",
            "  libhttp-negotiate-perl libijs-0.35 libio-html-perl libio-socket-ssl-perl\n",
            "  libjbig2dec0 libkpathsea6 liblwp-mediatypes-perl liblwp-protocol-https-perl\n",
            "  libmailtools-perl libnet-http-perl libnet-smtp-ssl-perl libnet-ssleay-perl\n",
            "  libpotrace0 libptexenc1 libsynctex1 libtexlua52 libtexluajit2\n",
            "  libtext-unidecode-perl libtimedate-perl libtry-tiny-perl liburi-perl\n",
            "  libwww-perl libwww-robotrules-perl libxml-libxml-perl\n",
            "  libxml-namespacesupport-perl libxml-parser-perl libxml-sax-base-perl\n",
            "  libxml-sax-expat-perl libxml-sax-perl libzzip-0-13 lilypond lilypond-data\n",
            "  lmodern netbase perl-openssl-defaults poppler-data t1utils tex-common\n",
            "  texinfo texlive-base texlive-binaries texlive-latex-base\n",
            "0 upgraded, 65 newly installed, 0 to remove and 37 not upgraded.\n",
            "Need to get 63.4 MB of archives.\n",
            "After this operation, 227 MB of additional disk space will be used.\n",
            "Get:1 http://archive.ubuntu.com/ubuntu bionic/main amd64 fonts-droid-fallback all 1:6.0.1r16-1.1 [1,805 kB]\n",
            "Get:2 http://archive.ubuntu.com/ubuntu bionic/main amd64 poppler-data all 0.4.8-2 [1,479 kB]\n",
            "Get:3 http://archive.ubuntu.com/ubuntu bionic/main amd64 tex-common all 6.09 [33.0 kB]\n",
            "Get:4 http://archive.ubuntu.com/ubuntu bionic/main amd64 netbase all 5.4 [12.7 kB]\n",
            "Get:5 http://archive.ubuntu.com/ubuntu bionic/main amd64 fonts-lmodern all 2.004.5-3 [4,551 kB]\n",
            "Get:6 http://archive.ubuntu.com/ubuntu bionic/main amd64 fonts-noto-mono all 20171026-2 [75.5 kB]\n",
            "Get:7 http://archive.ubuntu.com/ubuntu bionic-updates/main amd64 libcupsimage2 amd64 2.2.7-1ubuntu2.8 [18.6 kB]\n",
            "Get:8 http://archive.ubuntu.com/ubuntu bionic/main amd64 libijs-0.35 amd64 0.35-13 [15.5 kB]\n",
            "Get:9 http://archive.ubuntu.com/ubuntu bionic/main amd64 libjbig2dec0 amd64 0.13-6 [55.9 kB]\n",
            "Get:10 http://archive.ubuntu.com/ubuntu bionic-updates/main amd64 libgs9-common all 9.26~dfsg+0-0ubuntu0.18.04.14 [5,092 kB]\n",
            "Get:11 http://archive.ubuntu.com/ubuntu bionic-updates/main amd64 libgs9 amd64 9.26~dfsg+0-0ubuntu0.18.04.14 [2,265 kB]\n",
            "Get:12 http://archive.ubuntu.com/ubuntu bionic-updates/main amd64 ghostscript amd64 9.26~dfsg+0-0ubuntu0.18.04.14 [51.3 kB]\n",
            "Get:13 http://archive.ubuntu.com/ubuntu bionic/main amd64 gsfonts all 1:8.11+urwcyr1.0.7~pre44-4.4 [3,120 kB]\n",
            "Get:14 http://archive.ubuntu.com/ubuntu bionic-updates/main amd64 libcupsfilters1 amd64 1.20.2-0ubuntu3.1 [108 kB]\n",
            "Get:15 http://archive.ubuntu.com/ubuntu bionic/main amd64 libdata-dump-perl all 1.23-1 [27.0 kB]\n",
            "Get:16 http://archive.ubuntu.com/ubuntu bionic/main amd64 libencode-locale-perl all 1.05-1 [12.3 kB]\n",
            "Get:17 http://archive.ubuntu.com/ubuntu bionic/main amd64 libtimedate-perl all 2.3000-2 [37.5 kB]\n",
            "Get:18 http://archive.ubuntu.com/ubuntu bionic/main amd64 libhttp-date-perl all 6.02-1 [10.4 kB]\n",
            "Get:19 http://archive.ubuntu.com/ubuntu bionic/main amd64 libfile-listing-perl all 6.04-1 [9,774 B]\n",
            "Get:20 http://archive.ubuntu.com/ubuntu bionic/main amd64 libfont-afm-perl all 1.20-2 [13.2 kB]\n",
            "Get:21 http://archive.ubuntu.com/ubuntu bionic/main amd64 libhtml-tagset-perl all 3.20-3 [12.1 kB]\n",
            "Get:22 http://archive.ubuntu.com/ubuntu bionic/main amd64 liburi-perl all 1.73-1 [77.2 kB]\n",
            "Get:23 http://archive.ubuntu.com/ubuntu bionic/main amd64 libhtml-parser-perl amd64 3.72-3build1 [85.9 kB]\n",
            "Get:24 http://archive.ubuntu.com/ubuntu bionic/main amd64 libio-html-perl all 1.001-1 [14.9 kB]\n",
            "Get:25 http://archive.ubuntu.com/ubuntu bionic/main amd64 liblwp-mediatypes-perl all 6.02-1 [21.7 kB]\n",
            "Get:26 http://archive.ubuntu.com/ubuntu bionic/main amd64 libhttp-message-perl all 6.14-1 [72.1 kB]\n",
            "Get:27 http://archive.ubuntu.com/ubuntu bionic/main amd64 libhtml-form-perl all 6.03-1 [23.5 kB]\n",
            "Get:28 http://archive.ubuntu.com/ubuntu bionic/main amd64 libhtml-tree-perl all 5.07-1 [200 kB]\n",
            "Get:29 http://archive.ubuntu.com/ubuntu bionic/main amd64 libhtml-format-perl all 2.12-1 [41.3 kB]\n",
            "Get:30 http://archive.ubuntu.com/ubuntu bionic/main amd64 libhttp-cookies-perl all 6.04-1 [17.2 kB]\n",
            "Get:31 http://archive.ubuntu.com/ubuntu bionic/main amd64 libhttp-daemon-perl all 6.01-1 [17.0 kB]\n",
            "Get:32 http://archive.ubuntu.com/ubuntu bionic/main amd64 libhttp-negotiate-perl all 6.00-2 [13.4 kB]\n",
            "Get:33 http://archive.ubuntu.com/ubuntu bionic/main amd64 perl-openssl-defaults amd64 3build1 [7,012 B]\n",
            "Get:34 http://archive.ubuntu.com/ubuntu bionic-updates/main amd64 libnet-ssleay-perl amd64 1.84-1ubuntu0.2 [283 kB]\n",
            "Get:35 http://archive.ubuntu.com/ubuntu bionic-updates/main amd64 libio-socket-ssl-perl all 2.060-3~ubuntu18.04.1 [173 kB]\n",
            "Get:36 http://archive.ubuntu.com/ubuntu bionic-updates/main amd64 libkpathsea6 amd64 2017.20170613.44572-8ubuntu0.1 [54.9 kB]\n",
            "Get:37 http://archive.ubuntu.com/ubuntu bionic/main amd64 libnet-http-perl all 6.17-1 [22.7 kB]\n",
            "Get:38 http://archive.ubuntu.com/ubuntu bionic/main amd64 libtry-tiny-perl all 0.30-1 [20.5 kB]\n",
            "Get:39 http://archive.ubuntu.com/ubuntu bionic/main amd64 libwww-robotrules-perl all 6.01-1 [14.1 kB]\n",
            "Get:40 http://archive.ubuntu.com/ubuntu bionic-updates/main amd64 libwww-perl all 6.31-1ubuntu0.1 [137 kB]\n",
            "Get:41 http://archive.ubuntu.com/ubuntu bionic/main amd64 liblwp-protocol-https-perl all 6.07-2 [8,284 B]\n",
            "Get:42 http://archive.ubuntu.com/ubuntu bionic/main amd64 libnet-smtp-ssl-perl all 1.04-1 [5,948 B]\n",
            "Get:43 http://archive.ubuntu.com/ubuntu bionic/main amd64 libmailtools-perl all 2.18-1 [74.0 kB]\n",
            "Get:44 http://archive.ubuntu.com/ubuntu bionic/main amd64 libpotrace0 amd64 1.14-2 [17.4 kB]\n",
            "Get:45 http://archive.ubuntu.com/ubuntu bionic-updates/main amd64 libptexenc1 amd64 2017.20170613.44572-8ubuntu0.1 [34.5 kB]\n",
            "Get:46 http://archive.ubuntu.com/ubuntu bionic-updates/main amd64 libsynctex1 amd64 2017.20170613.44572-8ubuntu0.1 [41.4 kB]\n",
            "Get:47 http://archive.ubuntu.com/ubuntu bionic-updates/main amd64 libtexlua52 amd64 2017.20170613.44572-8ubuntu0.1 [91.2 kB]\n",
            "Get:48 http://archive.ubuntu.com/ubuntu bionic-updates/main amd64 libtexluajit2 amd64 2017.20170613.44572-8ubuntu0.1 [230 kB]\n",
            "Get:49 http://archive.ubuntu.com/ubuntu bionic/universe amd64 libtext-unidecode-perl all 1.30-1 [99.0 kB]\n",
            "Get:50 http://archive.ubuntu.com/ubuntu bionic/main amd64 libxml-namespacesupport-perl all 1.12-1 [13.2 kB]\n",
            "Get:51 http://archive.ubuntu.com/ubuntu bionic/main amd64 libxml-sax-base-perl all 1.09-1 [18.8 kB]\n",
            "Get:52 http://archive.ubuntu.com/ubuntu bionic/main amd64 libxml-sax-perl all 0.99+dfsg-2ubuntu1 [64.6 kB]\n",
            "Get:53 http://archive.ubuntu.com/ubuntu bionic/main amd64 libxml-libxml-perl amd64 2.0128+dfsg-5 [316 kB]\n",
            "Get:54 http://archive.ubuntu.com/ubuntu bionic/main amd64 libxml-parser-perl amd64 2.44-2build3 [199 kB]\n",
            "Get:55 http://archive.ubuntu.com/ubuntu bionic/main amd64 libxml-sax-expat-perl all 0.40-2 [11.5 kB]\n",
            "Get:56 http://archive.ubuntu.com/ubuntu bionic-updates/main amd64 libzzip-0-13 amd64 0.13.62-3.1ubuntu0.18.04.1 [26.0 kB]\n",
            "Get:57 http://archive.ubuntu.com/ubuntu bionic/universe amd64 texinfo amd64 6.5.0.dfsg.1-2 [752 kB]\n",
            "Get:58 http://archive.ubuntu.com/ubuntu bionic/main amd64 t1utils amd64 1.41-2 [56.0 kB]\n",
            "Get:59 http://archive.ubuntu.com/ubuntu bionic-updates/main amd64 texlive-binaries amd64 2017.20170613.44572-8ubuntu0.1 [8,179 kB]\n",
            "Get:60 http://archive.ubuntu.com/ubuntu bionic/universe amd64 lilypond-data all 2.18.2-12build1 [1,799 kB]\n",
            "Get:61 http://archive.ubuntu.com/ubuntu bionic/universe amd64 lilypond amd64 2.18.2-12build1 [1,928 kB]\n",
            "Get:62 http://archive.ubuntu.com/ubuntu bionic/main amd64 lmodern all 2.004.5-3 [9,631 kB]\n",
            "Get:63 http://archive.ubuntu.com/ubuntu bionic/main amd64 texlive-base all 2017.20180305-1 [18.7 MB]\n",
            "Get:64 http://archive.ubuntu.com/ubuntu bionic/main amd64 texlive-latex-base all 2017.20180305-1 [951 kB]\n",
            "Get:65 http://archive.ubuntu.com/ubuntu bionic/main amd64 libauthen-sasl-perl all 2.1600-1 [48.7 kB]\n",
            "Fetched 63.4 MB in 1s (51.1 MB/s)\n",
            "Extracting templates from packages: 100%\n",
            "Preconfiguring packages ...\n",
            "Selecting previously unselected package fonts-droid-fallback.\n",
            "(Reading database ... 155219 files and directories currently installed.)\n",
            "Preparing to unpack .../00-fonts-droid-fallback_1%3a6.0.1r16-1.1_all.deb ...\n",
            "Unpacking fonts-droid-fallback (1:6.0.1r16-1.1) ...\n",
            "Selecting previously unselected package poppler-data.\n",
            "Preparing to unpack .../01-poppler-data_0.4.8-2_all.deb ...\n",
            "Unpacking poppler-data (0.4.8-2) ...\n",
            "Selecting previously unselected package tex-common.\n",
            "Preparing to unpack .../02-tex-common_6.09_all.deb ...\n",
            "Unpacking tex-common (6.09) ...\n",
            "Selecting previously unselected package netbase.\n",
            "Preparing to unpack .../03-netbase_5.4_all.deb ...\n",
            "Unpacking netbase (5.4) ...\n",
            "Selecting previously unselected package fonts-lmodern.\n",
            "Preparing to unpack .../04-fonts-lmodern_2.004.5-3_all.deb ...\n",
            "Unpacking fonts-lmodern (2.004.5-3) ...\n",
            "Selecting previously unselected package fonts-noto-mono.\n",
            "Preparing to unpack .../05-fonts-noto-mono_20171026-2_all.deb ...\n",
            "Unpacking fonts-noto-mono (20171026-2) ...\n",
            "Selecting previously unselected package libcupsimage2:amd64.\n",
            "Preparing to unpack .../06-libcupsimage2_2.2.7-1ubuntu2.8_amd64.deb ...\n",
            "Unpacking libcupsimage2:amd64 (2.2.7-1ubuntu2.8) ...\n",
            "Selecting previously unselected package libijs-0.35:amd64.\n",
            "Preparing to unpack .../07-libijs-0.35_0.35-13_amd64.deb ...\n",
            "Unpacking libijs-0.35:amd64 (0.35-13) ...\n",
            "Selecting previously unselected package libjbig2dec0:amd64.\n",
            "Preparing to unpack .../08-libjbig2dec0_0.13-6_amd64.deb ...\n",
            "Unpacking libjbig2dec0:amd64 (0.13-6) ...\n",
            "Selecting previously unselected package libgs9-common.\n",
            "Preparing to unpack .../09-libgs9-common_9.26~dfsg+0-0ubuntu0.18.04.14_all.deb ...\n",
            "Unpacking libgs9-common (9.26~dfsg+0-0ubuntu0.18.04.14) ...\n",
            "Selecting previously unselected package libgs9:amd64.\n",
            "Preparing to unpack .../10-libgs9_9.26~dfsg+0-0ubuntu0.18.04.14_amd64.deb ...\n",
            "Unpacking libgs9:amd64 (9.26~dfsg+0-0ubuntu0.18.04.14) ...\n",
            "Selecting previously unselected package ghostscript.\n",
            "Preparing to unpack .../11-ghostscript_9.26~dfsg+0-0ubuntu0.18.04.14_amd64.deb ...\n",
            "Unpacking ghostscript (9.26~dfsg+0-0ubuntu0.18.04.14) ...\n",
            "Selecting previously unselected package gsfonts.\n",
            "Preparing to unpack .../12-gsfonts_1%3a8.11+urwcyr1.0.7~pre44-4.4_all.deb ...\n",
            "Unpacking gsfonts (1:8.11+urwcyr1.0.7~pre44-4.4) ...\n",
            "Selecting previously unselected package libcupsfilters1:amd64.\n",
            "Preparing to unpack .../13-libcupsfilters1_1.20.2-0ubuntu3.1_amd64.deb ...\n",
            "Unpacking libcupsfilters1:amd64 (1.20.2-0ubuntu3.1) ...\n",
            "Selecting previously unselected package libdata-dump-perl.\n",
            "Preparing to unpack .../14-libdata-dump-perl_1.23-1_all.deb ...\n",
            "Unpacking libdata-dump-perl (1.23-1) ...\n",
            "Selecting previously unselected package libencode-locale-perl.\n",
            "Preparing to unpack .../15-libencode-locale-perl_1.05-1_all.deb ...\n",
            "Unpacking libencode-locale-perl (1.05-1) ...\n",
            "Selecting previously unselected package libtimedate-perl.\n",
            "Preparing to unpack .../16-libtimedate-perl_2.3000-2_all.deb ...\n",
            "Unpacking libtimedate-perl (2.3000-2) ...\n",
            "Selecting previously unselected package libhttp-date-perl.\n",
            "Preparing to unpack .../17-libhttp-date-perl_6.02-1_all.deb ...\n",
            "Unpacking libhttp-date-perl (6.02-1) ...\n",
            "Selecting previously unselected package libfile-listing-perl.\n",
            "Preparing to unpack .../18-libfile-listing-perl_6.04-1_all.deb ...\n",
            "Unpacking libfile-listing-perl (6.04-1) ...\n",
            "Selecting previously unselected package libfont-afm-perl.\n",
            "Preparing to unpack .../19-libfont-afm-perl_1.20-2_all.deb ...\n",
            "Unpacking libfont-afm-perl (1.20-2) ...\n",
            "Selecting previously unselected package libhtml-tagset-perl.\n",
            "Preparing to unpack .../20-libhtml-tagset-perl_3.20-3_all.deb ...\n",
            "Unpacking libhtml-tagset-perl (3.20-3) ...\n",
            "Selecting previously unselected package liburi-perl.\n",
            "Preparing to unpack .../21-liburi-perl_1.73-1_all.deb ...\n",
            "Unpacking liburi-perl (1.73-1) ...\n",
            "Selecting previously unselected package libhtml-parser-perl.\n",
            "Preparing to unpack .../22-libhtml-parser-perl_3.72-3build1_amd64.deb ...\n",
            "Unpacking libhtml-parser-perl (3.72-3build1) ...\n",
            "Selecting previously unselected package libio-html-perl.\n",
            "Preparing to unpack .../23-libio-html-perl_1.001-1_all.deb ...\n",
            "Unpacking libio-html-perl (1.001-1) ...\n",
            "Selecting previously unselected package liblwp-mediatypes-perl.\n",
            "Preparing to unpack .../24-liblwp-mediatypes-perl_6.02-1_all.deb ...\n",
            "Unpacking liblwp-mediatypes-perl (6.02-1) ...\n",
            "Selecting previously unselected package libhttp-message-perl.\n",
            "Preparing to unpack .../25-libhttp-message-perl_6.14-1_all.deb ...\n",
            "Unpacking libhttp-message-perl (6.14-1) ...\n",
            "Selecting previously unselected package libhtml-form-perl.\n",
            "Preparing to unpack .../26-libhtml-form-perl_6.03-1_all.deb ...\n",
            "Unpacking libhtml-form-perl (6.03-1) ...\n",
            "Selecting previously unselected package libhtml-tree-perl.\n",
            "Preparing to unpack .../27-libhtml-tree-perl_5.07-1_all.deb ...\n",
            "Unpacking libhtml-tree-perl (5.07-1) ...\n",
            "Selecting previously unselected package libhtml-format-perl.\n",
            "Preparing to unpack .../28-libhtml-format-perl_2.12-1_all.deb ...\n",
            "Unpacking libhtml-format-perl (2.12-1) ...\n",
            "Selecting previously unselected package libhttp-cookies-perl.\n",
            "Preparing to unpack .../29-libhttp-cookies-perl_6.04-1_all.deb ...\n",
            "Unpacking libhttp-cookies-perl (6.04-1) ...\n",
            "Selecting previously unselected package libhttp-daemon-perl.\n",
            "Preparing to unpack .../30-libhttp-daemon-perl_6.01-1_all.deb ...\n",
            "Unpacking libhttp-daemon-perl (6.01-1) ...\n",
            "Selecting previously unselected package libhttp-negotiate-perl.\n",
            "Preparing to unpack .../31-libhttp-negotiate-perl_6.00-2_all.deb ...\n",
            "Unpacking libhttp-negotiate-perl (6.00-2) ...\n",
            "Selecting previously unselected package perl-openssl-defaults:amd64.\n",
            "Preparing to unpack .../32-perl-openssl-defaults_3build1_amd64.deb ...\n",
            "Unpacking perl-openssl-defaults:amd64 (3build1) ...\n",
            "Selecting previously unselected package libnet-ssleay-perl.\n",
            "Preparing to unpack .../33-libnet-ssleay-perl_1.84-1ubuntu0.2_amd64.deb ...\n",
            "Unpacking libnet-ssleay-perl (1.84-1ubuntu0.2) ...\n",
            "Selecting previously unselected package libio-socket-ssl-perl.\n",
            "Preparing to unpack .../34-libio-socket-ssl-perl_2.060-3~ubuntu18.04.1_all.deb ...\n",
            "Unpacking libio-socket-ssl-perl (2.060-3~ubuntu18.04.1) ...\n",
            "Selecting previously unselected package libkpathsea6:amd64.\n",
            "Preparing to unpack .../35-libkpathsea6_2017.20170613.44572-8ubuntu0.1_amd64.deb ...\n",
            "Unpacking libkpathsea6:amd64 (2017.20170613.44572-8ubuntu0.1) ...\n",
            "Selecting previously unselected package libnet-http-perl.\n",
            "Preparing to unpack .../36-libnet-http-perl_6.17-1_all.deb ...\n",
            "Unpacking libnet-http-perl (6.17-1) ...\n",
            "Selecting previously unselected package libtry-tiny-perl.\n",
            "Preparing to unpack .../37-libtry-tiny-perl_0.30-1_all.deb ...\n",
            "Unpacking libtry-tiny-perl (0.30-1) ...\n",
            "Selecting previously unselected package libwww-robotrules-perl.\n",
            "Preparing to unpack .../38-libwww-robotrules-perl_6.01-1_all.deb ...\n",
            "Unpacking libwww-robotrules-perl (6.01-1) ...\n",
            "Selecting previously unselected package libwww-perl.\n",
            "Preparing to unpack .../39-libwww-perl_6.31-1ubuntu0.1_all.deb ...\n",
            "Unpacking libwww-perl (6.31-1ubuntu0.1) ...\n",
            "Selecting previously unselected package liblwp-protocol-https-perl.\n",
            "Preparing to unpack .../40-liblwp-protocol-https-perl_6.07-2_all.deb ...\n",
            "Unpacking liblwp-protocol-https-perl (6.07-2) ...\n",
            "Selecting previously unselected package libnet-smtp-ssl-perl.\n",
            "Preparing to unpack .../41-libnet-smtp-ssl-perl_1.04-1_all.deb ...\n",
            "Unpacking libnet-smtp-ssl-perl (1.04-1) ...\n",
            "Selecting previously unselected package libmailtools-perl.\n",
            "Preparing to unpack .../42-libmailtools-perl_2.18-1_all.deb ...\n",
            "Unpacking libmailtools-perl (2.18-1) ...\n",
            "Selecting previously unselected package libpotrace0.\n",
            "Preparing to unpack .../43-libpotrace0_1.14-2_amd64.deb ...\n",
            "Unpacking libpotrace0 (1.14-2) ...\n",
            "Selecting previously unselected package libptexenc1:amd64.\n",
            "Preparing to unpack .../44-libptexenc1_2017.20170613.44572-8ubuntu0.1_amd64.deb ...\n",
            "Unpacking libptexenc1:amd64 (2017.20170613.44572-8ubuntu0.1) ...\n",
            "Selecting previously unselected package libsynctex1:amd64.\n",
            "Preparing to unpack .../45-libsynctex1_2017.20170613.44572-8ubuntu0.1_amd64.deb ...\n",
            "Unpacking libsynctex1:amd64 (2017.20170613.44572-8ubuntu0.1) ...\n",
            "Selecting previously unselected package libtexlua52:amd64.\n",
            "Preparing to unpack .../46-libtexlua52_2017.20170613.44572-8ubuntu0.1_amd64.deb ...\n",
            "Unpacking libtexlua52:amd64 (2017.20170613.44572-8ubuntu0.1) ...\n",
            "Selecting previously unselected package libtexluajit2:amd64.\n",
            "Preparing to unpack .../47-libtexluajit2_2017.20170613.44572-8ubuntu0.1_amd64.deb ...\n",
            "Unpacking libtexluajit2:amd64 (2017.20170613.44572-8ubuntu0.1) ...\n",
            "Selecting previously unselected package libtext-unidecode-perl.\n",
            "Preparing to unpack .../48-libtext-unidecode-perl_1.30-1_all.deb ...\n",
            "Unpacking libtext-unidecode-perl (1.30-1) ...\n",
            "Selecting previously unselected package libxml-namespacesupport-perl.\n",
            "Preparing to unpack .../49-libxml-namespacesupport-perl_1.12-1_all.deb ...\n",
            "Unpacking libxml-namespacesupport-perl (1.12-1) ...\n",
            "Selecting previously unselected package libxml-sax-base-perl.\n",
            "Preparing to unpack .../50-libxml-sax-base-perl_1.09-1_all.deb ...\n",
            "Unpacking libxml-sax-base-perl (1.09-1) ...\n",
            "Selecting previously unselected package libxml-sax-perl.\n",
            "Preparing to unpack .../51-libxml-sax-perl_0.99+dfsg-2ubuntu1_all.deb ...\n",
            "Unpacking libxml-sax-perl (0.99+dfsg-2ubuntu1) ...\n",
            "Selecting previously unselected package libxml-libxml-perl.\n",
            "Preparing to unpack .../52-libxml-libxml-perl_2.0128+dfsg-5_amd64.deb ...\n",
            "Unpacking libxml-libxml-perl (2.0128+dfsg-5) ...\n",
            "Selecting previously unselected package libxml-parser-perl.\n",
            "Preparing to unpack .../53-libxml-parser-perl_2.44-2build3_amd64.deb ...\n",
            "Unpacking libxml-parser-perl (2.44-2build3) ...\n",
            "Selecting previously unselected package libxml-sax-expat-perl.\n",
            "Preparing to unpack .../54-libxml-sax-expat-perl_0.40-2_all.deb ...\n",
            "Unpacking libxml-sax-expat-perl (0.40-2) ...\n",
            "Selecting previously unselected package libzzip-0-13:amd64.\n",
            "Preparing to unpack .../55-libzzip-0-13_0.13.62-3.1ubuntu0.18.04.1_amd64.deb ...\n",
            "Unpacking libzzip-0-13:amd64 (0.13.62-3.1ubuntu0.18.04.1) ...\n",
            "Selecting previously unselected package texinfo.\n",
            "Preparing to unpack .../56-texinfo_6.5.0.dfsg.1-2_amd64.deb ...\n",
            "Unpacking texinfo (6.5.0.dfsg.1-2) ...\n",
            "Selecting previously unselected package t1utils.\n",
            "Preparing to unpack .../57-t1utils_1.41-2_amd64.deb ...\n",
            "Unpacking t1utils (1.41-2) ...\n",
            "Selecting previously unselected package texlive-binaries.\n",
            "Preparing to unpack .../58-texlive-binaries_2017.20170613.44572-8ubuntu0.1_amd64.deb ...\n",
            "Unpacking texlive-binaries (2017.20170613.44572-8ubuntu0.1) ...\n",
            "Selecting previously unselected package lilypond-data.\n",
            "Preparing to unpack .../59-lilypond-data_2.18.2-12build1_all.deb ...\n",
            "Unpacking lilypond-data (2.18.2-12build1) ...\n",
            "Selecting previously unselected package lilypond.\n",
            "Preparing to unpack .../60-lilypond_2.18.2-12build1_amd64.deb ...\n",
            "warning: kpathsea: configuration file texmf.cnf not found in these directories: /etc/texmf/web2c:/usr/local/share/texmf/web2c:/usr/share/texmf/web2c:/usr/share/texlive/texmf-dist/web2c://share/texmf/web2c.\n",
            "warning: kpathsea: configuration file texmf.cnf not found in these directories: /etc/texmf/web2c:/usr/local/share/texmf/web2c:/usr/share/texmf/web2c:/usr/share/texlive/texmf-dist/web2c://share/texmf/web2c.\n",
            "Unpacking lilypond (2.18.2-12build1) ...\n",
            "Selecting previously unselected package lmodern.\n",
            "Preparing to unpack .../61-lmodern_2.004.5-3_all.deb ...\n",
            "Unpacking lmodern (2.004.5-3) ...\n",
            "Selecting previously unselected package texlive-base.\n",
            "Preparing to unpack .../62-texlive-base_2017.20180305-1_all.deb ...\n",
            "Unpacking texlive-base (2017.20180305-1) ...\n",
            "Selecting previously unselected package texlive-latex-base.\n",
            "Preparing to unpack .../63-texlive-latex-base_2017.20180305-1_all.deb ...\n",
            "Unpacking texlive-latex-base (2017.20180305-1) ...\n",
            "Selecting previously unselected package libauthen-sasl-perl.\n",
            "Preparing to unpack .../64-libauthen-sasl-perl_2.1600-1_all.deb ...\n",
            "Unpacking libauthen-sasl-perl (2.1600-1) ...\n",
            "Setting up libgs9-common (9.26~dfsg+0-0ubuntu0.18.04.14) ...\n",
            "Setting up libhtml-tagset-perl (3.20-3) ...\n",
            "Setting up libkpathsea6:amd64 (2017.20170613.44572-8ubuntu0.1) ...\n",
            "Setting up libtexlua52:amd64 (2017.20170613.44572-8ubuntu0.1) ...\n",
            "Setting up libtry-tiny-perl (0.30-1) ...\n",
            "Setting up fonts-droid-fallback (1:6.0.1r16-1.1) ...\n",
            "Setting up libfont-afm-perl (1.20-2) ...\n",
            "Setting up libsynctex1:amd64 (2017.20170613.44572-8ubuntu0.1) ...\n",
            "Setting up libptexenc1:amd64 (2017.20170613.44572-8ubuntu0.1) ...\n",
            "Setting up tex-common (6.09) ...\n",
            "update-language: texlive-base not installed and configured, doing nothing!\n",
            "Setting up libxml-namespacesupport-perl (1.12-1) ...\n",
            "Setting up gsfonts (1:8.11+urwcyr1.0.7~pre44-4.4) ...\n",
            "Setting up libencode-locale-perl (1.05-1) ...\n",
            "Setting up libtimedate-perl (2.3000-2) ...\n",
            "Setting up poppler-data (0.4.8-2) ...\n",
            "Setting up perl-openssl-defaults:amd64 (3build1) ...\n",
            "Setting up libio-html-perl (1.001-1) ...\n",
            "Setting up libtext-unidecode-perl (1.30-1) ...\n",
            "Setting up fonts-noto-mono (20171026-2) ...\n",
            "Setting up libcupsfilters1:amd64 (1.20.2-0ubuntu3.1) ...\n",
            "Setting up libcupsimage2:amd64 (2.2.7-1ubuntu2.8) ...\n",
            "Setting up libxml-sax-base-perl (1.09-1) ...\n",
            "Setting up libjbig2dec0:amd64 (0.13-6) ...\n",
            "Setting up liblwp-mediatypes-perl (6.02-1) ...\n",
            "Setting up liburi-perl (1.73-1) ...\n",
            "Setting up t1utils (1.41-2) ...\n",
            "Setting up libdata-dump-perl (1.23-1) ...\n",
            "Setting up libhtml-parser-perl (3.72-3build1) ...\n",
            "Setting up libijs-0.35:amd64 (0.35-13) ...\n",
            "Setting up libpotrace0 (1.14-2) ...\n",
            "Setting up libnet-http-perl (6.17-1) ...\n",
            "Setting up libzzip-0-13:amd64 (0.13.62-3.1ubuntu0.18.04.1) ...\n",
            "Setting up libgs9:amd64 (9.26~dfsg+0-0ubuntu0.18.04.14) ...\n",
            "Setting up libwww-robotrules-perl (6.01-1) ...\n",
            "Setting up libtexluajit2:amd64 (2017.20170613.44572-8ubuntu0.1) ...\n",
            "Setting up libauthen-sasl-perl (2.1600-1) ...\n",
            "Setting up fonts-lmodern (2.004.5-3) ...\n",
            "Setting up netbase (5.4) ...\n",
            "Setting up libxml-sax-perl (0.99+dfsg-2ubuntu1) ...\n",
            "update-perl-sax-parsers: Registering Perl SAX parser XML::SAX::PurePerl with priority 10...\n",
            "update-perl-sax-parsers: Updating overall Perl SAX parser modules info file...\n",
            "\n",
            "Creating config file /etc/perl/XML/SAX/ParserDetails.ini with new version\n",
            "Setting up libhttp-date-perl (6.02-1) ...\n",
            "Setting up libnet-ssleay-perl (1.84-1ubuntu0.2) ...\n",
            "Setting up ghostscript (9.26~dfsg+0-0ubuntu0.18.04.14) ...\n",
            "Setting up texlive-binaries (2017.20170613.44572-8ubuntu0.1) ...\n",
            "update-alternatives: using /usr/bin/xdvi-xaw to provide /usr/bin/xdvi.bin (xdvi.bin) in auto mode\n",
            "update-alternatives: using /usr/bin/bibtex.original to provide /usr/bin/bibtex (bibtex) in auto mode\n",
            "Setting up libio-socket-ssl-perl (2.060-3~ubuntu18.04.1) ...\n",
            "Setting up libhtml-tree-perl (5.07-1) ...\n",
            "Setting up texlive-base (2017.20180305-1) ...\n",
            "mktexlsr: Updating /var/lib/texmf/ls-R-TEXLIVEDIST... \n",
            "mktexlsr: Updating /var/lib/texmf/ls-R-TEXMFMAIN... \n",
            "mktexlsr: Updating /var/lib/texmf/ls-R... \n",
            "mktexlsr: Done.\n",
            "tl-paper: setting paper size for dvips to a4: /var/lib/texmf/dvips/config/config-paper.ps\n",
            "tl-paper: setting paper size for dvipdfmx to a4: /var/lib/texmf/dvipdfmx/dvipdfmx-paper.cfg\n",
            "tl-paper: setting paper size for xdvi to a4: /var/lib/texmf/xdvi/XDvi-paper\n",
            "tl-paper: setting paper size for pdftex to a4: /var/lib/texmf/tex/generic/config/pdftexconfig.tex\n",
            "Setting up libfile-listing-perl (6.04-1) ...\n",
            "Setting up libhttp-message-perl (6.14-1) ...\n",
            "Setting up libxml-libxml-perl (2.0128+dfsg-5) ...\n",
            "update-perl-sax-parsers: Registering Perl SAX parser XML::LibXML::SAX::Parser with priority 50...\n",
            "update-perl-sax-parsers: Registering Perl SAX parser XML::LibXML::SAX with priority 50...\n",
            "update-perl-sax-parsers: Updating overall Perl SAX parser modules info file...\n",
            "Replacing config file /etc/perl/XML/SAX/ParserDetails.ini with new version\n",
            "Setting up texlive-latex-base (2017.20180305-1) ...\n",
            "Setting up lmodern (2.004.5-3) ...\n",
            "Setting up libhttp-negotiate-perl (6.00-2) ...\n",
            "Setting up libnet-smtp-ssl-perl (1.04-1) ...\n",
            "Setting up libhtml-format-perl (2.12-1) ...\n",
            "Setting up libhttp-cookies-perl (6.04-1) ...\n",
            "Setting up libhttp-daemon-perl (6.01-1) ...\n",
            "Setting up libhtml-form-perl (6.03-1) ...\n",
            "Setting up texinfo (6.5.0.dfsg.1-2) ...\n",
            "Running mktexlsr. This may take some time. ... done.\n",
            "Setting up libmailtools-perl (2.18-1) ...\n",
            "Setting up lilypond-data (2.18.2-12build1) ...\n",
            "Setting up lilypond (2.18.2-12build1) ...\n",
            "Setting up liblwp-protocol-https-perl (6.07-2) ...\n",
            "Setting up libwww-perl (6.31-1ubuntu0.1) ...\n",
            "Setting up libxml-parser-perl (2.44-2build3) ...\n",
            "Setting up libxml-sax-expat-perl (0.40-2) ...\n",
            "update-perl-sax-parsers: Registering Perl SAX parser XML::SAX::Expat with priority 50...\n",
            "update-perl-sax-parsers: Updating overall Perl SAX parser modules info file...\n",
            "Replacing config file /etc/perl/XML/SAX/ParserDetails.ini with new version\n",
            "Processing triggers for fontconfig (2.12.6-0ubuntu2) ...\n",
            "Processing triggers for mime-support (3.60ubuntu1) ...\n",
            "Processing triggers for libc-bin (2.27-3ubuntu1.3) ...\n",
            "/sbin/ldconfig.real: /usr/local/lib/python3.7/dist-packages/ideep4py/lib/libmkldnn.so.0 is not a symbolic link\n",
            "\n",
            "Processing triggers for man-db (2.8.3-2ubuntu0.1) ...\n",
            "Processing triggers for tex-common (6.09) ...\n",
            "Running updmap-sys. This may take some time... done.\n",
            "Running mktexlsr /var/lib/texmf ... done.\n",
            "Building format(s) --all.\n",
            "\tThis may take some time... done.\n"
          ]
        }
      ],
      "source": [
        "!pip install music21\n",
        "!apt-get install -y lilypond"
      ]
    },
    {
      "cell_type": "code",
      "execution_count": 4,
      "metadata": {
        "id": "IqSG3VrikFr5"
      },
      "outputs": [],
      "source": [
        "import tensorflow \n",
        "import numpy as np \n",
        "import pandas as pd \n",
        "import glob\n",
        "import os\n",
        "from collections import Counter\n",
        "import random\n",
        "import IPython\n",
        "from IPython.display import Image, Audio\n",
        "import music21\n",
        "from music21 import *\n",
        "import matplotlib.pyplot as plt \n",
        "from sklearn.model_selection import train_test_split\n",
        "from tensorflow.keras.models import Sequential\n",
        "from tensorflow.keras.layers import LSTM, Dense, Dropout\n",
        "import tensorflow.keras.backend as K\n",
        "from tensorflow.keras.optimizers import Adamax\n",
        "import seaborn as sns\n",
        "import matplotlib.pyplot as plt\n",
        "import matplotlib.patches as mpatches\n",
        "%matplotlib inline\n",
        "import sys\n",
        "import warnings\n",
        "warnings.filterwarnings(\"ignore\")\n",
        "warnings.simplefilter(\"ignore\")\n",
        "np.random.seed(42)"
      ]
    },
    {
      "cell_type": "code",
      "execution_count": 5,
      "metadata": {
        "colab": {
          "base_uri": "https://localhost:8080/"
        },
        "id": "S9qjaTi3j6jl",
        "outputId": "453e5921-ae71-44f8-a5ed-f0e5c8a95a30"
      },
      "outputs": [
        {
          "name": "stdout",
          "output_type": "stream",
          "text": [
            "/content/beeth\n"
          ]
        }
      ],
      "source": [
        "cd beeth/"
      ]
    },
    {
      "cell_type": "markdown",
      "metadata": {
        "id": "Ji3Rq4CTnG2F"
      },
      "source": [
        "# Transposing all midi files to C major or A minor"
      ]
    },
    {
      "cell_type": "code",
      "execution_count": 6,
      "metadata": {
        "colab": {
          "base_uri": "https://localhost:8080/"
        },
        "id": "D55dy08ika2e",
        "outputId": "b90f1786-fd44-4c0d-e72c-5b00c0ae02e6"
      },
      "outputs": [
        {
          "name": "stdout",
          "output_type": "stream",
          "text": [
            "C major\n",
            "C major\n",
            "A minor\n",
            "C major\n",
            "A minor\n",
            "C major\n",
            "A minor\n",
            "A minor\n",
            "C major\n",
            "A minor\n",
            "A minor\n",
            "A minor\n",
            "C major\n",
            "C major\n",
            "C major\n",
            "C major\n",
            "A minor\n",
            "A minor\n",
            "C major\n",
            "A minor\n",
            "C major\n",
            "C major\n",
            "C major\n",
            "A minor\n",
            "A minor\n",
            "A minor\n",
            "C major\n",
            "C major\n",
            "C major\n"
          ]
        }
      ],
      "source": [
        "majors = dict([(\"A-\", 4),(\"G#\", 4),(\"A\", 3),(\"B-\", 2),(\"A#\", 2),(\"B\", 1),(\"C\", 0),(\"D-\", -1),(\"C#\", -1),(\"D\", -2),(\"E-\", -3),(\"D#\", -3),(\"E\", -4),(\"F\", -5),(\"G-\", 6),(\"F#\", 6),(\"G\", 5)])\n",
        "minors = dict([(\"A-\", 1),(\"G#\", 1),(\"A\", 0),(\"B-\", -1),(\"A#\", -1),(\"B\", -2),(\"C\", -3),(\"D-\", -4),(\"C#\", -4),(\"D\", -5),(\"E-\", 6),(\"D#\", 6),(\"E\", 5),(\"F\", 4),(\"G-\", 3),(\"F#\", 3),(\"G\", 2)])\n",
        "\n",
        "\n",
        "for file in glob.glob(\"*.mid\"):\n",
        "    score = music21.converter.parse(file)\n",
        "    key = score.analyze('key')\n",
        "    if key.mode == \"major\":\n",
        "        halfSteps = majors[key.tonic.name]\n",
        "    elif key.mode == \"minor\":\n",
        "        halfSteps = minors[key.tonic.name]\n",
        "    newscore = score.transpose(halfSteps)\n",
        "    key = newscore.analyze('key')\n",
        "    print (key.tonic.name, key.mode)\n",
        "    newFileName = \"C_\"+file\n",
        "    newscore.write('midi',newFileName)"
      ]
    },
    {
      "cell_type": "code",
      "execution_count": 7,
      "metadata": {
        "id": "ahxglicOkoCh"
      },
      "outputs": [],
      "source": [
        "#Loading the list of beethoven's midi files as stream \n",
        "filepath = \"../beeth/\"\n",
        "#Getting midi files\n",
        "all_midis= []\n",
        "for i in os.listdir(filepath):\n",
        "    if i.startswith(\"C_\"):\n",
        "        tr = filepath+i\n",
        "        midi = converter.parse(tr)\n",
        "        all_midis.append(midi)"
      ]
    },
    {
      "cell_type": "markdown",
      "metadata": {
        "id": "LHxkwLZUCHTv"
      },
      "source": [
        "# Creating the corpus of music notes/chords"
      ]
    },
    {
      "cell_type": "code",
      "execution_count": 8,
      "metadata": {
        "colab": {
          "base_uri": "https://localhost:8080/"
        },
        "id": "h-kVTYSblw_Y",
        "outputId": "7129a935-9b5e-439c-b49c-012ff4485ef2"
      },
      "outputs": [
        {
          "name": "stdout",
          "output_type": "stream",
          "text": [
            "Total notes in all the Beethoven midis in the dataset: 85040\n"
          ]
        }
      ],
      "source": [
        "#Helping function        \n",
        "def extract_notes(file):\n",
        "    notes = []\n",
        "    pick = None\n",
        "    for j in file:\n",
        "        songs = instrument.partitionByInstrument(j)\n",
        "        for part in songs.parts:\n",
        "            pick = part.recurse()\n",
        "            for element in pick:\n",
        "                if isinstance(element, note.Note):\n",
        "                    notes.append(str(element.pitch))\n",
        "                elif isinstance(element, chord.Chord):\n",
        "                    notes.append(\".\".join(str(n) for n in element.normalOrder))\n",
        "\n",
        "    return notes\n",
        "#Getting the list of notes as Corpus\n",
        "Corpus= extract_notes(all_midis)\n",
        "print(\"Total notes in all the Beethoven midis in the dataset:\", len(Corpus))"
      ]
    },
    {
      "cell_type": "code",
      "execution_count": 9,
      "metadata": {
        "colab": {
          "base_uri": "https://localhost:8080/"
        },
        "id": "sWqgT1X5lyTv",
        "outputId": "2d59f452-7ffe-4992-8bc2-0a92c8d11dfe"
      },
      "outputs": [
        {
          "name": "stdout",
          "output_type": "stream",
          "text": [
            "First fifty values in the Corpus: ['C4', '0', 'E4', '4', '4.9', '0.4', '4.9', 'C5', '0.4', '4.9', '4.9', '0.4', '8.11.2.4', '11.4', '9.0.4', '4.9', '9.2', '5', '5.9', '2', '5.9', '2', '4.9', '0', '4.9', '0', '2.4.8', '11', '9.0.4', '9', '11.4', '8', '11.2.5', '2.5.8.11', '11.2.5', '8', 'F4', '0.4', '9', '2.5.8', '11', '2.5.8', '11', '2.5.8', '11', '9.0.4', '0', '5.9.11', '2', '6.9.11']\n"
          ]
        }
      ],
      "source": [
        "print(\"First fifty values in the Corpus:\", Corpus[:50])"
      ]
    },
    {
      "cell_type": "markdown",
      "metadata": {
        "id": "33B4f0tOoEFC"
      },
      "source": [
        "# Preprocessing"
      ]
    },
    {
      "cell_type": "code",
      "execution_count": 10,
      "metadata": {
        "colab": {
          "base_uri": "https://localhost:8080/",
          "height": 452
        },
        "id": "Cr04C_bTl2ms",
        "outputId": "d10d1498-79c7-4cdc-adf3-99228ee6d0a3"
      },
      "outputs": [
        {
          "data": {
            "image/png": "[encoded data removed]",
            "text/plain": [
              "<IPython.core.display.Image object>"
            ]
          },
          "metadata": {},
          "output_type": "display_data"
        }
      ],
      "source": [
        "#First Lets write some functions that we need to look into the data\n",
        "def show(music):\n",
        "    display(Image(str(music.write(\"lily.png\"))))\n",
        "    \n",
        "def chords_n_notes(Snippet):\n",
        "    Melody = []\n",
        "    offset = 0 #Incremental\n",
        "    for i in Snippet:\n",
        "        #If it is chord\n",
        "        if (\".\" in i or i.isdigit()):\n",
        "            chord_notes = i.split(\".\") #Seperating the notes in chord\n",
        "            notes = [] \n",
        "            for j in chord_notes:\n",
        "                inst_note=int(j)\n",
        "                note_snip = note.Note(inst_note)            \n",
        "                notes.append(note_snip)\n",
        "                chord_snip = chord.Chord(notes)\n",
        "                chord_snip.offset = offset\n",
        "                Melody.append(chord_snip)\n",
        "        # pattern is a note\n",
        "        else: \n",
        "            note_snip = note.Note(i)\n",
        "            note_snip.offset = offset\n",
        "            Melody.append(note_snip)\n",
        "        # increase offset each iteration so that notes do not stack\n",
        "        offset += 1\n",
        "    Melody_midi = stream.Stream(Melody)   \n",
        "    return Melody_midi\n",
        "\n",
        "Melody_Snippet = chords_n_notes(Corpus[:100])\n",
        "show(Melody_Snippet)"
      ]
    },
    {
      "cell_type": "code",
      "execution_count": 11,
      "metadata": {
        "colab": {
          "base_uri": "https://localhost:8080/"
        },
        "id": "aZKWiVB-mJd7",
        "outputId": "ea7b7643-f83b-4425-e0ea-b0ce9053ad99"
      },
      "outputs": [
        {
          "name": "stdout",
          "output_type": "stream",
          "text": [
            "Total unique notes in the Corpus: 270\n"
          ]
        }
      ],
      "source": [
        "#Creating a count dictionary\n",
        "count_num = Counter(Corpus)\n",
        "print(\"Total unique notes in the Corpus:\", len(count_num))"
      ]
    },
    {
      "cell_type": "code",
      "execution_count": 12,
      "metadata": {
        "colab": {
          "base_uri": "https://localhost:8080/"
        },
        "id": "huz-tzzomMW4",
        "outputId": "d8f4d480-02d0-4a1d-af27-67a02ae22453"
      },
      "outputs": [
        {
          "name": "stdout",
          "output_type": "stream",
          "text": [
            "Average recurrence for a note in Corpus: 314.962962962963\n",
            "Most frequent note in Corpus appeared: 2727 times\n",
            "Least frequent note in Corpus appeared: 1 time\n"
          ]
        }
      ],
      "source": [
        "#Exploring the notes dictionary\n",
        "Notes = list(count_num.keys())\n",
        "Recurrence = list(count_num.values())\n",
        "#Average recurrence for a note in Corpus\n",
        "def Average(lst):\n",
        "    return sum(lst) / len(lst)\n",
        "print(\"Average recurrence for a note in Corpus:\", Average(Recurrence))\n",
        "print(\"Most frequent note in Corpus appeared:\", max(Recurrence), \"times\")\n",
        "print(\"Least frequent note in Corpus appeared:\", min(Recurrence), \"time\")"
      ]
    },
    {
      "cell_type": "code",
      "execution_count": 13,
      "metadata": {
        "colab": {
          "base_uri": "https://localhost:8080/",
          "height": 239
        },
        "id": "in_L8CrBmMRV",
        "outputId": "4f1990c1-7eef-4f0c-b687-0476510b9b96"
      },
      "outputs": [
        {
          "data": {
            "image/png": "[encoded data removed]",
            "text/plain": [
              "<Figure size 1296x216 with 1 Axes>"
            ]
          },
          "metadata": {
            "image/png": {
              "height": 222,
              "width": 1058
            }
          },
          "output_type": "display_data"
        }
      ],
      "source": [
        "# Plotting the distribution of Notes\n",
        "plt.figure(figsize=(18,3),facecolor=\"#97BACB\")\n",
        "bins = np.arange(0,(max(Recurrence)), 50) \n",
        "plt.hist(Recurrence, bins=bins, color=\"#97BACB\")\n",
        "plt.axvline(x=100,color=\"#DBACC1\")\n",
        "plt.title(\"Frequency Distribution Of Notes In The Corpus\")\n",
        "plt.xlabel(\"Frequency Of Notes/Chords in Corpus\")\n",
        "plt.ylabel(\"Number Of Notes/Chords\")\n",
        "plt.show()"
      ]
    },
    {
      "cell_type": "code",
      "execution_count": 14,
      "metadata": {
        "colab": {
          "base_uri": "https://localhost:8080/"
        },
        "id": "RVInYpMCmW-H",
        "outputId": "31a36e5b-4ada-44dc-9b80-7684cc044c9b"
      },
      "outputs": [
        {
          "name": "stdout",
          "output_type": "stream",
          "text": [
            "Total number of notes that occur less than 100 times: 163\n"
          ]
        }
      ],
      "source": [
        "#Getting a list of rare chords\n",
        "rare_note = []\n",
        "for index, (key, value) in enumerate(count_num.items()):\n",
        "    if value < 100:\n",
        "        m =  key\n",
        "        rare_note.append(m)\n",
        "        \n",
        "print(\"Total number of notes that occur less than 100 times:\", len(rare_note))"
      ]
    },
    {
      "cell_type": "code",
      "execution_count": 15,
      "metadata": {
        "colab": {
          "base_uri": "https://localhost:8080/"
        },
        "id": "gL3lMAuGmZ_E",
        "outputId": "f0fc2b10-23f6-4f07-b258-d6d908d734d2"
      },
      "outputs": [
        {
          "name": "stdout",
          "output_type": "stream",
          "text": [
            "Length of Corpus after elemination the rare notes: 81421\n"
          ]
        }
      ],
      "source": [
        "#Eliminating the rare notes\n",
        "for element in Corpus:\n",
        "    if element in rare_note:\n",
        "        Corpus.remove(element)\n",
        "\n",
        "print(\"Length of Corpus after elemination the rare notes:\", len(Corpus))"
      ]
    },
    {
      "cell_type": "code",
      "execution_count": 16,
      "metadata": {
        "colab": {
          "base_uri": "https://localhost:8080/"
        },
        "id": "f7y0vFdJmeER",
        "outputId": "2f587a9d-07e0-496c-cca5-5914b7dfa134"
      },
      "outputs": [
        {
          "name": "stdout",
          "output_type": "stream",
          "text": [
            "Total number of characters: 81421\n",
            "Number of unique characters: 215\n"
          ]
        }
      ],
      "source": [
        "# Storing all the unique characters present in my corpus to bult a mapping dic. \n",
        "symb = sorted(list(set(Corpus)))\n",
        "\n",
        "L_corpus = len(Corpus) #length of corpus\n",
        "L_symb = len(symb) #length of total unique characters\n",
        "\n",
        "\n",
        "#Building dictionary to access the vocabulary from indices and vice versa\n",
        "mapping = dict((c, i) for i, c in enumerate(symb))\n",
        "reverse_mapping = dict((i, c) for i, c in enumerate(symb))\n",
        "\n",
        "print(\"Total number of characters:\", L_corpus)\n",
        "print(\"Number of unique characters:\", L_symb)"
      ]
    },
    {
      "cell_type": "code",
      "execution_count": 17,
      "metadata": {
        "colab": {
          "base_uri": "https://localhost:8080/"
        },
        "id": "mOi1tFYJmkWz",
        "outputId": "ffee0af4-2b09-47f3-f571-3212cd1c4026"
      },
      "outputs": [
        {
          "name": "stdout",
          "output_type": "stream",
          "text": [
            "Total number of sequences in the Corpus: 81381\n"
          ]
        }
      ],
      "source": [
        "#Splitting the Corpus in equal length of strings and output target\n",
        "length = 40\n",
        "features = []\n",
        "targets = []\n",
        "for i in range(0, L_corpus - length, 1):\n",
        "    feature = Corpus[i:i + length]\n",
        "    target = Corpus[i + length]\n",
        "    features.append([mapping[j] for j in feature])\n",
        "    targets.append(mapping[target])\n",
        "    \n",
        "    \n",
        "L_datapoints = len(targets)\n",
        "print(\"Total number of sequences in the Corpus:\", L_datapoints)"
      ]
    },
    {
      "cell_type": "code",
      "execution_count": 18,
      "metadata": {
        "id": "dr7b6KZymnOj"
      },
      "outputs": [],
      "source": [
        "# reshape X and normalize\n",
        "X = (np.reshape(features, (L_datapoints, length, 1)))/ float(L_symb)\n",
        "# one hot encode the output variable\n",
        "y = tensorflow.keras.utils.to_categorical(targets)"
      ]
    },
    {
      "cell_type": "code",
      "execution_count": 19,
      "metadata": {
        "id": "qd1xcni0mpl5"
      },
      "outputs": [],
      "source": [
        "#Taking out a subset of data to be used as seed\n",
        "X_train, X_seed, y_train, y_seed = train_test_split(X, y, test_size=0.2, random_state=42)"
      ]
    },
    {
      "cell_type": "markdown",
      "metadata": {
        "id": "udukoxsnBjlA"
      },
      "source": [
        "# Creating the LSTM model"
      ]
    },
    {
      "cell_type": "code",
      "execution_count": 20,
      "metadata": {
        "id": "FMZjDzk2msyL"
      },
      "outputs": [],
      "source": [
        "#Initialising the Model\n",
        "model = Sequential()\n",
        "#Adding layers\n",
        "model.add(LSTM(512, input_shape=(X.shape[1], X.shape[2]), return_sequences=True))\n",
        "model.add(Dropout(0.3))\n",
        "model.add(LSTM(256))\n",
        "model.add(Dense(256))\n",
        "model.add(Dropout(0.3))\n",
        "model.add(Dense(y.shape[1], activation='softmax'))\n",
        "#Compiling the model for training  \n",
        "opt = Adamax(learning_rate=0.01)\n",
        "model.compile(loss='categorical_crossentropy', optimizer=opt, metrics = ['accuracy'])"
      ]
    },
    {
      "cell_type": "code",
      "execution_count": 21,
      "metadata": {
        "colab": {
          "base_uri": "https://localhost:8080/"
        },
        "id": "uY5IwUGUmwmZ",
        "outputId": "52c7eac9-3e12-49b2-e364-21e241a5e40b"
      },
      "outputs": [
        {
          "name": "stdout",
          "output_type": "stream",
          "text": [
            "Model: \"sequential\"\n",
            "_________________________________________________________________\n",
            "Layer (type)                 Output Shape              Param #   \n",
            "=================================================================\n",
            "lstm (LSTM)                  (None, 40, 512)           1052672   \n",
            "_________________________________________________________________\n",
            "dropout (Dropout)            (None, 40, 512)           0         \n",
            "_________________________________________________________________\n",
            "lstm_1 (LSTM)                (None, 256)               787456    \n",
            "_________________________________________________________________\n",
            "dense (Dense)                (None, 256)               65792     \n",
            "_________________________________________________________________\n",
            "dropout_1 (Dropout)          (None, 256)               0         \n",
            "_________________________________________________________________\n",
            "dense_1 (Dense)              (None, 215)               55255     \n",
            "=================================================================\n",
            "Total params: 1,961,175\n",
            "Trainable params: 1,961,175\n",
            "Non-trainable params: 0\n",
            "_________________________________________________________________\n"
          ]
        }
      ],
      "source": [
        "model.summary()"
      ]
    },
    {
      "cell_type": "markdown",
      "metadata": {
        "id": "PmUkZElHBvo_"
      },
      "source": [
        "# Training the model"
      ]
    },
    {
      "cell_type": "code",
      "execution_count": 22,
      "metadata": {
        "colab": {
          "base_uri": "https://localhost:8080/"
        },
        "id": "iJKHv5IOm0fu",
        "outputId": "8366f1a2-f525-4412-8ac5-425e6f1d2ef1"
      },
      "outputs": [
        {
          "name": "stdout",
          "output_type": "stream",
          "text": [
            "Epoch 1/100\n",
            "509/509 [==============================] - 37s 58ms/step - loss: 4.3833 - accuracy: 0.0299\n",
            "Epoch 2/100\n",
            "509/509 [==============================] - 29s 58ms/step - loss: 4.3461 - accuracy: 0.0307\n",
            "Epoch 3/100\n",
            "509/509 [==============================] - 29s 58ms/step - loss: 4.3421 - accuracy: 0.0317\n",
            "Epoch 4/100\n",
            "509/509 [==============================] - 29s 58ms/step - loss: 4.3391 - accuracy: 0.0325\n",
            "Epoch 5/100\n",
            "509/509 [==============================] - 29s 58ms/step - loss: 4.3382 - accuracy: 0.0319\n",
            "Epoch 6/100\n",
            "509/509 [==============================] - 29s 57ms/step - loss: 4.3381 - accuracy: 0.0314\n",
            "Epoch 7/100\n",
            "509/509 [==============================] - 29s 57ms/step - loss: 4.3371 - accuracy: 0.0312\n",
            "Epoch 8/100\n",
            "509/509 [==============================] - 29s 57ms/step - loss: 4.3343 - accuracy: 0.0319\n",
            "Epoch 9/100\n",
            "509/509 [==============================] - 29s 57ms/step - loss: 4.3346 - accuracy: 0.0320\n",
            "Epoch 10/100\n",
            "509/509 [==============================] - 29s 57ms/step - loss: 4.3336 - accuracy: 0.0325\n",
            "Epoch 11/100\n",
            "509/509 [==============================] - 29s 57ms/step - loss: 4.3341 - accuracy: 0.0329\n",
            "Epoch 12/100\n",
            "509/509 [==============================] - 29s 57ms/step - loss: 4.3330 - accuracy: 0.0329\n",
            "Epoch 13/100\n",
            "509/509 [==============================] - 29s 57ms/step - loss: 4.3290 - accuracy: 0.0323\n",
            "Epoch 14/100\n",
            "509/509 [==============================] - 29s 57ms/step - loss: 4.3373 - accuracy: 0.0311\n",
            "Epoch 15/100\n",
            "509/509 [==============================] - 29s 57ms/step - loss: 4.3276 - accuracy: 0.0319\n",
            "Epoch 16/100\n",
            "509/509 [==============================] - 29s 58ms/step - loss: 4.3264 - accuracy: 0.0323\n",
            "Epoch 17/100\n",
            "509/509 [==============================] - 29s 57ms/step - loss: 4.3157 - accuracy: 0.0313\n",
            "Epoch 18/100\n",
            "509/509 [==============================] - 29s 58ms/step - loss: 4.3127 - accuracy: 0.0327\n",
            "Epoch 19/100\n",
            "509/509 [==============================] - 29s 58ms/step - loss: 4.3107 - accuracy: 0.0318\n",
            "Epoch 20/100\n",
            "509/509 [==============================] - 29s 57ms/step - loss: 4.3096 - accuracy: 0.0332\n",
            "Epoch 21/100\n",
            "509/509 [==============================] - 29s 57ms/step - loss: 4.3062 - accuracy: 0.0331\n",
            "Epoch 22/100\n",
            "509/509 [==============================] - 29s 57ms/step - loss: 4.3054 - accuracy: 0.0321\n",
            "Epoch 23/100\n",
            "509/509 [==============================] - 29s 58ms/step - loss: 4.3072 - accuracy: 0.0332\n",
            "Epoch 24/100\n",
            "509/509 [==============================] - 29s 57ms/step - loss: 4.2884 - accuracy: 0.0339\n",
            "Epoch 25/100\n",
            "509/509 [==============================] - 29s 57ms/step - loss: 4.2467 - accuracy: 0.0360\n",
            "Epoch 26/100\n",
            "509/509 [==============================] - 29s 57ms/step - loss: 4.2234 - accuracy: 0.0392\n",
            "Epoch 27/100\n",
            "509/509 [==============================] - 29s 58ms/step - loss: 4.1772 - accuracy: 0.0464\n",
            "Epoch 28/100\n",
            "509/509 [==============================] - 29s 57ms/step - loss: 4.1478 - accuracy: 0.0508\n",
            "Epoch 29/100\n",
            "509/509 [==============================] - 29s 57ms/step - loss: 4.1208 - accuracy: 0.0576\n",
            "Epoch 30/100\n",
            "509/509 [==============================] - 29s 57ms/step - loss: 4.0793 - accuracy: 0.0647\n",
            "Epoch 31/100\n",
            "509/509 [==============================] - 29s 57ms/step - loss: 4.0388 - accuracy: 0.0740\n",
            "Epoch 32/100\n",
            "509/509 [==============================] - 29s 58ms/step - loss: 3.9624 - accuracy: 0.0874\n",
            "Epoch 33/100\n",
            "509/509 [==============================] - 29s 58ms/step - loss: 3.8944 - accuracy: 0.0968\n",
            "Epoch 34/100\n",
            "509/509 [==============================] - 29s 57ms/step - loss: 3.8257 - accuracy: 0.1082\n",
            "Epoch 35/100\n",
            "509/509 [==============================] - 29s 58ms/step - loss: 3.7502 - accuracy: 0.1194\n",
            "Epoch 36/100\n",
            "509/509 [==============================] - 29s 57ms/step - loss: 3.6544 - accuracy: 0.1348\n",
            "Epoch 37/100\n",
            "509/509 [==============================] - 29s 57ms/step - loss: 3.5528 - accuracy: 0.1527\n",
            "Epoch 38/100\n",
            "509/509 [==============================] - 29s 57ms/step - loss: 3.4397 - accuracy: 0.1721\n",
            "Epoch 39/100\n",
            "509/509 [==============================] - 29s 57ms/step - loss: 3.3209 - accuracy: 0.1913\n",
            "Epoch 40/100\n",
            "509/509 [==============================] - 29s 57ms/step - loss: 3.2076 - accuracy: 0.2125\n",
            "Epoch 41/100\n",
            "509/509 [==============================] - 29s 57ms/step - loss: 3.0952 - accuracy: 0.2334\n",
            "Epoch 42/100\n",
            "509/509 [==============================] - 29s 57ms/step - loss: 2.9749 - accuracy: 0.2561\n",
            "Epoch 43/100\n",
            "509/509 [==============================] - 29s 58ms/step - loss: 2.8732 - accuracy: 0.2773\n",
            "Epoch 44/100\n",
            "509/509 [==============================] - 29s 57ms/step - loss: 2.7672 - accuracy: 0.3021\n",
            "Epoch 45/100\n",
            "509/509 [==============================] - 29s 58ms/step - loss: 2.6622 - accuracy: 0.3222\n",
            "Epoch 46/100\n",
            "509/509 [==============================] - 29s 57ms/step - loss: 2.5740 - accuracy: 0.3394\n",
            "Epoch 47/100\n",
            "509/509 [==============================] - 29s 58ms/step - loss: 2.4804 - accuracy: 0.3605\n",
            "Epoch 48/100\n",
            "509/509 [==============================] - 29s 57ms/step - loss: 2.4022 - accuracy: 0.3753\n",
            "Epoch 49/100\n",
            "509/509 [==============================] - 29s 57ms/step - loss: 2.3208 - accuracy: 0.3928\n",
            "Epoch 50/100\n",
            "509/509 [==============================] - 29s 57ms/step - loss: 2.2445 - accuracy: 0.4105\n",
            "Epoch 51/100\n",
            "509/509 [==============================] - 29s 57ms/step - loss: 2.1803 - accuracy: 0.4232\n",
            "Epoch 52/100\n",
            "509/509 [==============================] - 29s 58ms/step - loss: 2.1040 - accuracy: 0.4423\n",
            "Epoch 53/100\n",
            "509/509 [==============================] - 29s 58ms/step - loss: 2.0456 - accuracy: 0.4530\n",
            "Epoch 54/100\n",
            "509/509 [==============================] - 29s 58ms/step - loss: 1.9860 - accuracy: 0.4684\n",
            "Epoch 55/100\n",
            "509/509 [==============================] - 29s 57ms/step - loss: 1.9282 - accuracy: 0.4802\n",
            "Epoch 56/100\n",
            "509/509 [==============================] - 29s 58ms/step - loss: 1.8594 - accuracy: 0.4958\n",
            "Epoch 57/100\n",
            "509/509 [==============================] - 29s 58ms/step - loss: 1.8155 - accuracy: 0.5080\n",
            "Epoch 58/100\n",
            "509/509 [==============================] - 29s 58ms/step - loss: 1.7646 - accuracy: 0.5198\n",
            "Epoch 59/100\n",
            "509/509 [==============================] - 29s 57ms/step - loss: 1.7131 - accuracy: 0.5324\n",
            "Epoch 60/100\n",
            "509/509 [==============================] - 29s 57ms/step - loss: 1.6592 - accuracy: 0.5421\n",
            "Epoch 61/100\n",
            "509/509 [==============================] - 29s 57ms/step - loss: 1.6193 - accuracy: 0.5517\n",
            "Epoch 62/100\n",
            "509/509 [==============================] - 29s 57ms/step - loss: 1.5749 - accuracy: 0.5647\n",
            "Epoch 63/100\n",
            "509/509 [==============================] - 29s 57ms/step - loss: 1.5398 - accuracy: 0.5692\n",
            "Epoch 64/100\n",
            "509/509 [==============================] - 29s 57ms/step - loss: 1.4959 - accuracy: 0.5811\n",
            "Epoch 65/100\n",
            "509/509 [==============================] - 29s 57ms/step - loss: 1.4507 - accuracy: 0.5945\n",
            "Epoch 66/100\n",
            "509/509 [==============================] - 29s 58ms/step - loss: 1.4240 - accuracy: 0.5981\n",
            "Epoch 67/100\n",
            "509/509 [==============================] - 29s 57ms/step - loss: 1.3848 - accuracy: 0.6093\n",
            "Epoch 68/100\n",
            "509/509 [==============================] - 29s 58ms/step - loss: 1.3442 - accuracy: 0.6212\n",
            "Epoch 69/100\n",
            "509/509 [==============================] - 29s 58ms/step - loss: 1.3172 - accuracy: 0.6279\n",
            "Epoch 70/100\n",
            "509/509 [==============================] - 29s 57ms/step - loss: 1.2836 - accuracy: 0.6366\n",
            "Epoch 71/100\n",
            "509/509 [==============================] - 29s 58ms/step - loss: 1.2572 - accuracy: 0.6413\n",
            "Epoch 72/100\n",
            "509/509 [==============================] - 29s 58ms/step - loss: 1.2292 - accuracy: 0.6482\n",
            "Epoch 73/100\n",
            "509/509 [==============================] - 29s 58ms/step - loss: 1.1990 - accuracy: 0.6557\n",
            "Epoch 74/100\n",
            "509/509 [==============================] - 29s 58ms/step - loss: 1.1745 - accuracy: 0.6605\n",
            "Epoch 75/100\n",
            "509/509 [==============================] - 29s 57ms/step - loss: 1.1486 - accuracy: 0.6702\n",
            "Epoch 76/100\n",
            "509/509 [==============================] - 29s 58ms/step - loss: 1.1287 - accuracy: 0.6750\n",
            "Epoch 77/100\n",
            "509/509 [==============================] - 29s 57ms/step - loss: 1.1022 - accuracy: 0.6805\n",
            "Epoch 78/100\n",
            "509/509 [==============================] - 29s 58ms/step - loss: 1.0784 - accuracy: 0.6891\n",
            "Epoch 79/100\n",
            "509/509 [==============================] - 29s 57ms/step - loss: 1.0642 - accuracy: 0.6897\n",
            "Epoch 80/100\n",
            "509/509 [==============================] - 29s 57ms/step - loss: 1.0385 - accuracy: 0.6967\n",
            "Epoch 81/100\n",
            "509/509 [==============================] - 29s 58ms/step - loss: 1.0127 - accuracy: 0.7056\n",
            "Epoch 82/100\n",
            "509/509 [==============================] - 29s 58ms/step - loss: 0.9935 - accuracy: 0.7079\n",
            "Epoch 83/100\n",
            "509/509 [==============================] - 29s 58ms/step - loss: 0.9672 - accuracy: 0.7161\n",
            "Epoch 84/100\n",
            "509/509 [==============================] - 29s 58ms/step - loss: 0.9487 - accuracy: 0.7205\n",
            "Epoch 85/100\n",
            "509/509 [==============================] - 29s 58ms/step - loss: 0.9257 - accuracy: 0.7271\n",
            "Epoch 86/100\n",
            "509/509 [==============================] - 29s 58ms/step - loss: 0.9116 - accuracy: 0.7312\n",
            "Epoch 87/100\n",
            "509/509 [==============================] - 29s 58ms/step - loss: 0.8953 - accuracy: 0.7347\n",
            "Epoch 88/100\n",
            "509/509 [==============================] - 30s 58ms/step - loss: 0.8848 - accuracy: 0.7390\n",
            "Epoch 89/100\n",
            "509/509 [==============================] - 30s 58ms/step - loss: 0.8590 - accuracy: 0.7435\n",
            "Epoch 90/100\n",
            "509/509 [==============================] - 30s 58ms/step - loss: 0.8448 - accuracy: 0.7486\n",
            "Epoch 91/100\n",
            "509/509 [==============================] - 29s 58ms/step - loss: 0.8123 - accuracy: 0.7586\n",
            "Epoch 92/100\n",
            "509/509 [==============================] - 29s 58ms/step - loss: 0.8126 - accuracy: 0.7590\n",
            "Epoch 93/100\n",
            "509/509 [==============================] - 29s 57ms/step - loss: 0.8017 - accuracy: 0.7612\n",
            "Epoch 94/100\n",
            "509/509 [==============================] - 29s 58ms/step - loss: 0.7818 - accuracy: 0.7655\n",
            "Epoch 95/100\n",
            "509/509 [==============================] - 29s 58ms/step - loss: 0.7632 - accuracy: 0.7721\n",
            "Epoch 96/100\n",
            "509/509 [==============================] - 29s 58ms/step - loss: 0.7579 - accuracy: 0.7702\n",
            "Epoch 97/100\n",
            "509/509 [==============================] - 29s 58ms/step - loss: 0.7428 - accuracy: 0.7766\n",
            "Epoch 98/100\n",
            "509/509 [==============================] - 29s 58ms/step - loss: 0.7290 - accuracy: 0.7806\n",
            "Epoch 99/100\n",
            "509/509 [==============================] - 29s 58ms/step - loss: 0.7118 - accuracy: 0.7866\n",
            "Epoch 100/100\n",
            "509/509 [==============================] - 29s 58ms/step - loss: 0.7030 - accuracy: 0.7875\n"
          ]
        }
      ],
      "source": [
        "history = model.fit(X_train, y_train, batch_size=128, epochs=100)"
      ]
    },
    {
      "cell_type": "code",
      "execution_count": 23,
      "metadata": {
        "colab": {
          "base_uri": "https://localhost:8080/",
          "height": 324
        },
        "id": "OP09hYH1m4NB",
        "outputId": "6b15c075-a544-4889-98c2-8c3b96f21d3e"
      },
      "outputs": [
        {
          "data": {
            "text/plain": [
              "[Text(0.5, 0, 'Epochs')]"
            ]
          },
          "execution_count": 23,
          "metadata": {},
          "output_type": "execute_result"
        },
        {
          "data": {
            "image/png": "[encoded data removed]",
            "text/plain": [
              "<Figure size 1080x288 with 1 Axes>"
            ]
          },
          "metadata": {
            "image/png": {
              "height": 290,
              "width": 887
            }
          },
          "output_type": "display_data"
        }
      ],
      "source": [
        "history_df = pd.DataFrame(history.history)\n",
        "fig = plt.figure(figsize=(15,4), facecolor=\"#97BACB\")\n",
        "fig.suptitle(\"Learning Plot of Model for Loss\")\n",
        "pl=sns.lineplot(data=history_df[\"loss\"],color=\"#444160\")\n",
        "pl.set(ylabel =\"Training Loss\")\n",
        "pl.set(xlabel =\"Epochs\")"
      ]
    },
    {
      "cell_type": "markdown",
      "metadata": {
        "id": "3R-7rGULB765"
      },
      "source": [
        "# Generating the midi file"
      ]
    },
    {
      "cell_type": "code",
      "execution_count": 26,
      "metadata": {
        "id": "KLOGv-W-m7UJ"
      },
      "outputs": [],
      "source": [
        "def Melody_Generator(Note_Count):\n",
        "    seed = X_seed[np.random.randint(0,len(X_seed)-1)]\n",
        "    Music = \"\"\n",
        "    Notes_Generated=[]\n",
        "    for i in range(Note_Count):\n",
        "        seed = seed.reshape(1,length,1)\n",
        "        prediction = model.predict(seed, verbose=0)[0]\n",
        "        prediction = np.log(prediction) / 1.0 #diversity\n",
        "        exp_preds = np.exp(prediction)\n",
        "        prediction = exp_preds / np.sum(exp_preds)\n",
        "        index = np.argmax(prediction)\n",
        "        index_N = index/ float(L_symb)   \n",
        "        Notes_Generated.append(index)\n",
        "        Music = [reverse_mapping[char] for char in Notes_Generated]\n",
        "        seed = np.insert(seed[0],len(seed[0]),index_N)\n",
        "        seed = seed[1:]\n",
        "        \n",
        "    Melody = chords_n_notes(Music)\n",
        "    Melody_midi = stream.Stream(Melody)   \n",
        "    return Music,Melody_midi"
      ]
    },
    {
      "cell_type": "code",
      "execution_count": 30,
      "metadata": {
        "colab": {
          "base_uri": "https://localhost:8080/",
          "height": 329
        },
        "id": "A8GUtJOQAnO1",
        "outputId": "e3881815-5d2c-47b6-b865-a0f6f4a658d7"
      },
      "outputs": [
        {
          "data": {
            "image/png": "[encoded data removed]",
            "text/plain": [
              "<IPython.core.display.Image object>"
            ]
          },
          "metadata": {},
          "output_type": "display_data"
        }
      ],
      "source": [
        "Music_notes, Melody = Melody_Generator(100)\n",
        "show(Melody)"
      ]
    },
    {
      "cell_type": "code",
      "execution_count": 32,
      "metadata": {
        "colab": {
          "base_uri": "https://localhost:8080/"
        },
        "id": "CGOCr9CuBc87",
        "outputId": "a230f7f7-6334-40dc-8287-ec1e4feb815e"
      },
      "outputs": [
        {
          "name": "stdout",
          "output_type": "stream",
          "text": [
            "/content\n"
          ]
        }
      ],
      "source": [
        "cd .."
      ]
    },
    {
      "cell_type": "code",
      "execution_count": 33,
      "metadata": {
        "colab": {
          "base_uri": "https://localhost:8080/",
          "height": 35
        },
        "id": "6verufEjm-vK",
        "outputId": "1ffc348d-813e-4dee-dcaf-8e20bfe7fa89"
      },
      "outputs": [
        {
          "data": {
            "application/vnd.google.colaboratory.intrinsic+json": {
              "type": "string"
            },
            "text/plain": [
              "'Melody_Generated.mid'"
            ]
          },
          "execution_count": 33,
          "metadata": {},
          "output_type": "execute_result"
        }
      ],
      "source": [
        "#To save the generated melody\n",
        "Melody.write('midi','Melody_Generated.mid')\n",
        "#to play audio or corpus"
      ]
    },
    {
      "cell_type": "code",
      "execution_count": null,
      "metadata": {
        "id": "Edut8Ww7AaLk"
      },
      "outputs": [],
      "source": []
    }
  ],
  "metadata": {
    "accelerator": "GPU",
    "colab": {
      "collapsed_sections": [],
      "name": "MusicGeneration.ipynb",
      "provenance": []
    },
    "kernelspec": {
      "display_name": "Python 3",
      "name": "python3"
    },
    "language_info": {
      "name": "python"
    }
  },
  "nbformat": 4,
  "nbformat_minor": 0
}
